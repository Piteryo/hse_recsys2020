{
 "cells": [
  {
   "cell_type": "code",
   "execution_count": 1,
   "metadata": {},
   "outputs": [],
   "source": [
    "import implicit\n",
    "import pandas as pd\n",
    "import numpy as np\n",
    "import scipy.sparse as sp\n",
    "\n",
    "from scipy.sparse import random\n",
    "from scipy import stats\n",
    "from tqdm.notebook import tqdm\n",
    "from sklearn.metrics import mean_squared_error\n",
    "import scipy.sparse\n",
    "\n",
    "from scipy.sparse.linalg import spsolve\n",
    "\n",
    "from tqdm.notebook import tqdm\n",
    "from sklearn.metrics import mean_squared_error\n",
    "from sklearn.metrics.pairwise import cosine_similarity\n",
    "from tqdm import trange"
   ]
  },
  {
   "cell_type": "code",
   "execution_count": 2,
   "metadata": {},
   "outputs": [],
   "source": [
    "ratings = pd.read_csv('ml-1m/ratings.dat', delimiter='::', header=None, \n",
    "        names=['user_id', 'movie_id', 'rating', 'timestamp'], \n",
    "        usecols=['user_id', 'movie_id', 'rating'], engine='python')"
   ]
  },
  {
   "cell_type": "code",
   "execution_count": 3,
   "metadata": {},
   "outputs": [],
   "source": [
    "movie_info = pd.read_csv('ml-1m/movies.dat', delimiter='::', header=None, \n",
    "        names=['movie_id', 'name', 'category'], engine='python')"
   ]
  },
  {
   "cell_type": "code",
   "execution_count": 4,
   "metadata": {},
   "outputs": [
    {
     "data": {
      "text/html": [
       "<div>\n",
       "<style scoped>\n",
       "    .dataframe tbody tr th:only-of-type {\n",
       "        vertical-align: middle;\n",
       "    }\n",
       "\n",
       "    .dataframe tbody tr th {\n",
       "        vertical-align: top;\n",
       "    }\n",
       "\n",
       "    .dataframe thead th {\n",
       "        text-align: right;\n",
       "    }\n",
       "</style>\n",
       "<table border=\"1\" class=\"dataframe\">\n",
       "  <thead>\n",
       "    <tr style=\"text-align: right;\">\n",
       "      <th></th>\n",
       "      <th>movie_id</th>\n",
       "      <th>name</th>\n",
       "      <th>category</th>\n",
       "    </tr>\n",
       "  </thead>\n",
       "  <tbody>\n",
       "    <tr>\n",
       "      <th>0</th>\n",
       "      <td>1</td>\n",
       "      <td>Toy Story (1995)</td>\n",
       "      <td>Animation|Children's|Comedy</td>\n",
       "    </tr>\n",
       "    <tr>\n",
       "      <th>1</th>\n",
       "      <td>2</td>\n",
       "      <td>Jumanji (1995)</td>\n",
       "      <td>Adventure|Children's|Fantasy</td>\n",
       "    </tr>\n",
       "    <tr>\n",
       "      <th>2</th>\n",
       "      <td>3</td>\n",
       "      <td>Grumpier Old Men (1995)</td>\n",
       "      <td>Comedy|Romance</td>\n",
       "    </tr>\n",
       "    <tr>\n",
       "      <th>3</th>\n",
       "      <td>4</td>\n",
       "      <td>Waiting to Exhale (1995)</td>\n",
       "      <td>Comedy|Drama</td>\n",
       "    </tr>\n",
       "    <tr>\n",
       "      <th>4</th>\n",
       "      <td>5</td>\n",
       "      <td>Father of the Bride Part II (1995)</td>\n",
       "      <td>Comedy</td>\n",
       "    </tr>\n",
       "    <tr>\n",
       "      <th>...</th>\n",
       "      <td>...</td>\n",
       "      <td>...</td>\n",
       "      <td>...</td>\n",
       "    </tr>\n",
       "    <tr>\n",
       "      <th>3878</th>\n",
       "      <td>3948</td>\n",
       "      <td>Meet the Parents (2000)</td>\n",
       "      <td>Comedy</td>\n",
       "    </tr>\n",
       "    <tr>\n",
       "      <th>3879</th>\n",
       "      <td>3949</td>\n",
       "      <td>Requiem for a Dream (2000)</td>\n",
       "      <td>Drama</td>\n",
       "    </tr>\n",
       "    <tr>\n",
       "      <th>3880</th>\n",
       "      <td>3950</td>\n",
       "      <td>Tigerland (2000)</td>\n",
       "      <td>Drama</td>\n",
       "    </tr>\n",
       "    <tr>\n",
       "      <th>3881</th>\n",
       "      <td>3951</td>\n",
       "      <td>Two Family House (2000)</td>\n",
       "      <td>Drama</td>\n",
       "    </tr>\n",
       "    <tr>\n",
       "      <th>3882</th>\n",
       "      <td>3952</td>\n",
       "      <td>Contender, The (2000)</td>\n",
       "      <td>Drama|Thriller</td>\n",
       "    </tr>\n",
       "  </tbody>\n",
       "</table>\n",
       "<p>3883 rows × 3 columns</p>\n",
       "</div>"
      ],
      "text/plain": [
       "      movie_id                                name  \\\n",
       "0            1                    Toy Story (1995)   \n",
       "1            2                      Jumanji (1995)   \n",
       "2            3             Grumpier Old Men (1995)   \n",
       "3            4            Waiting to Exhale (1995)   \n",
       "4            5  Father of the Bride Part II (1995)   \n",
       "...        ...                                 ...   \n",
       "3878      3948             Meet the Parents (2000)   \n",
       "3879      3949          Requiem for a Dream (2000)   \n",
       "3880      3950                    Tigerland (2000)   \n",
       "3881      3951             Two Family House (2000)   \n",
       "3882      3952               Contender, The (2000)   \n",
       "\n",
       "                          category  \n",
       "0      Animation|Children's|Comedy  \n",
       "1     Adventure|Children's|Fantasy  \n",
       "2                   Comedy|Romance  \n",
       "3                     Comedy|Drama  \n",
       "4                           Comedy  \n",
       "...                            ...  \n",
       "3878                        Comedy  \n",
       "3879                         Drama  \n",
       "3880                         Drama  \n",
       "3881                         Drama  \n",
       "3882                Drama|Thriller  \n",
       "\n",
       "[3883 rows x 3 columns]"
      ]
     },
     "execution_count": 4,
     "metadata": {},
     "output_type": "execute_result"
    }
   ],
   "source": [
    "movie_info"
   ]
  },
  {
   "cell_type": "code",
   "execution_count": 5,
   "metadata": {},
   "outputs": [],
   "source": [
    "ratings = ratings.loc[(ratings['rating'] >= 2)]"
   ]
  },
  {
   "cell_type": "code",
   "execution_count": 6,
   "metadata": {},
   "outputs": [],
   "source": [
    "ratings['user_id'] = ratings['user_id'] - 1\n",
    "ratings['movie_id'] = ratings['movie_id'] - 1"
   ]
  },
  {
   "cell_type": "code",
   "execution_count": 7,
   "metadata": {},
   "outputs": [],
   "source": [
    "movie_info['movie_id'] = movie_info['movie_id'] - 1"
   ]
  },
  {
   "cell_type": "code",
   "execution_count": 8,
   "metadata": {},
   "outputs": [],
   "source": [
    "import os\n",
    "import time\n",
    "import argparse\n",
    "import numpy as np\n",
    "\n",
    "import torch\n",
    "import torch.nn as nn\n",
    "import torch.optim as optim\n",
    "import torch.utils.data as data"
   ]
  },
  {
   "cell_type": "code",
   "execution_count": 9,
   "metadata": {},
   "outputs": [
    {
     "data": {
      "text/html": [
       "<div>\n",
       "<style scoped>\n",
       "    .dataframe tbody tr th:only-of-type {\n",
       "        vertical-align: middle;\n",
       "    }\n",
       "\n",
       "    .dataframe tbody tr th {\n",
       "        vertical-align: top;\n",
       "    }\n",
       "\n",
       "    .dataframe thead th {\n",
       "        text-align: right;\n",
       "    }\n",
       "</style>\n",
       "<table border=\"1\" class=\"dataframe\">\n",
       "  <thead>\n",
       "    <tr style=\"text-align: right;\">\n",
       "      <th></th>\n",
       "      <th>user_id</th>\n",
       "      <th>movie_id</th>\n",
       "      <th>rating</th>\n",
       "    </tr>\n",
       "  </thead>\n",
       "  <tbody>\n",
       "    <tr>\n",
       "      <th>0</th>\n",
       "      <td>0</td>\n",
       "      <td>1192</td>\n",
       "      <td>5</td>\n",
       "    </tr>\n",
       "    <tr>\n",
       "      <th>1</th>\n",
       "      <td>0</td>\n",
       "      <td>660</td>\n",
       "      <td>3</td>\n",
       "    </tr>\n",
       "    <tr>\n",
       "      <th>2</th>\n",
       "      <td>0</td>\n",
       "      <td>913</td>\n",
       "      <td>3</td>\n",
       "    </tr>\n",
       "    <tr>\n",
       "      <th>3</th>\n",
       "      <td>0</td>\n",
       "      <td>3407</td>\n",
       "      <td>4</td>\n",
       "    </tr>\n",
       "    <tr>\n",
       "      <th>4</th>\n",
       "      <td>0</td>\n",
       "      <td>2354</td>\n",
       "      <td>5</td>\n",
       "    </tr>\n",
       "    <tr>\n",
       "      <th>...</th>\n",
       "      <td>...</td>\n",
       "      <td>...</td>\n",
       "      <td>...</td>\n",
       "    </tr>\n",
       "    <tr>\n",
       "      <th>1000203</th>\n",
       "      <td>6039</td>\n",
       "      <td>1089</td>\n",
       "      <td>3</td>\n",
       "    </tr>\n",
       "    <tr>\n",
       "      <th>1000205</th>\n",
       "      <td>6039</td>\n",
       "      <td>1093</td>\n",
       "      <td>5</td>\n",
       "    </tr>\n",
       "    <tr>\n",
       "      <th>1000206</th>\n",
       "      <td>6039</td>\n",
       "      <td>561</td>\n",
       "      <td>5</td>\n",
       "    </tr>\n",
       "    <tr>\n",
       "      <th>1000207</th>\n",
       "      <td>6039</td>\n",
       "      <td>1095</td>\n",
       "      <td>4</td>\n",
       "    </tr>\n",
       "    <tr>\n",
       "      <th>1000208</th>\n",
       "      <td>6039</td>\n",
       "      <td>1096</td>\n",
       "      <td>4</td>\n",
       "    </tr>\n",
       "  </tbody>\n",
       "</table>\n",
       "<p>944035 rows × 3 columns</p>\n",
       "</div>"
      ],
      "text/plain": [
       "         user_id  movie_id  rating\n",
       "0              0      1192       5\n",
       "1              0       660       3\n",
       "2              0       913       3\n",
       "3              0      3407       4\n",
       "4              0      2354       5\n",
       "...          ...       ...     ...\n",
       "1000203     6039      1089       3\n",
       "1000205     6039      1093       5\n",
       "1000206     6039       561       5\n",
       "1000207     6039      1095       4\n",
       "1000208     6039      1096       4\n",
       "\n",
       "[944035 rows x 3 columns]"
      ]
     },
     "execution_count": 9,
     "metadata": {},
     "output_type": "execute_result"
    }
   ],
   "source": [
    "ratings"
   ]
  },
  {
   "cell_type": "code",
   "execution_count": 10,
   "metadata": {},
   "outputs": [],
   "source": [
    "from lightfm import LightFM\n",
    "from lightfm.datasets import fetch_movielens\n",
    "from lightfm.evaluation import auc_score\n",
    "from lightfm.cross_validation import random_train_test_split\n",
    "import lightfm"
   ]
  },
  {
   "cell_type": "code",
   "execution_count": 11,
   "metadata": {},
   "outputs": [],
   "source": [
    "warp_model = LightFM(no_components=32,\n",
    "                    loss='warp',\n",
    "                    learning_schedule='adagrad',\n",
    "                    max_sampled=100,\n",
    "                    user_alpha=1e-05,\n",
    "                    item_alpha=1e-05)"
   ]
  },
  {
   "cell_type": "code",
   "execution_count": 11,
   "metadata": {},
   "outputs": [],
   "source": [
    "users = ratings[\"user_id\"]\n",
    "movies = ratings[\"movie_id\"]\n",
    "user_item = sp.coo_matrix((np.ones_like(users), (users, movies)))\n",
    "#user_item_csr = user_item.tocsr()"
   ]
  },
  {
   "cell_type": "code",
   "execution_count": 12,
   "metadata": {},
   "outputs": [],
   "source": [
    "train, test = random_train_test_split(user_item)"
   ]
  },
  {
   "cell_type": "code",
   "execution_count": 145,
   "metadata": {},
   "outputs": [
    {
     "data": {
      "text/plain": [
       "<lightfm.lightfm.LightFM at 0x7f68877a5320>"
      ]
     },
     "execution_count": 145,
     "metadata": {},
     "output_type": "execute_result"
    }
   ],
   "source": [
    "warp_model.fit_partial(train, epochs=70)"
   ]
  },
  {
   "cell_type": "code",
   "execution_count": 148,
   "metadata": {},
   "outputs": [
    {
     "data": {
      "text/plain": [
       "['0    Toy Story (1995)',\n",
       " '3045    Toy Story 2 (1999)',\n",
       " '584    Aladdin (1992)',\n",
       " '1526    Hercules (1997)',\n",
       " '591    Beauty and the Beast (1991)',\n",
       " '2692    Iron Giant, The (1999)',\n",
       " '1838    Mulan (1998)',\n",
       " '2225    Antz (1998)',\n",
       " '2618    Tarzan (1999)',\n",
       " '2252    Pleasantville (1998)']"
      ]
     },
     "execution_count": 148,
     "metadata": {},
     "output_type": "execute_result"
    }
   ],
   "source": [
    "get_similars_items = lambda item_id, sim : [movie_info[movie_info[\"movie_id\"] == x][\"name\"].to_string() \n",
    "                                        for x in reversed(np.argsort(sim[item_id,:])[-10:])]\n",
    "\n",
    "get_similars_items(0, cosine_similarity(warp_model.item_embeddings))"
   ]
  },
  {
   "cell_type": "code",
   "execution_count": 185,
   "metadata": {},
   "outputs": [],
   "source": [
    "ranks = warp_model.predict_rank(test, train)"
   ]
  },
  {
   "cell_type": "code",
   "execution_count": 186,
   "metadata": {},
   "outputs": [],
   "source": [
    "from sklearn.metrics import ndcg_score, recall_score"
   ]
  },
  {
   "cell_type": "code",
   "execution_count": 187,
   "metadata": {},
   "outputs": [
    {
     "data": {
      "text/plain": [
       "0.5438799190145628"
      ]
     },
     "execution_count": 187,
     "metadata": {},
     "output_type": "execute_result"
    }
   ],
   "source": [
    "ndcg_score(ranks.toarray(), test.toarray(), k=10)"
   ]
  },
  {
   "cell_type": "code",
   "execution_count": 184,
   "metadata": {},
   "outputs": [
    {
     "data": {
      "text/plain": [
       "0.16696817368762287"
      ]
     },
     "execution_count": 184,
     "metadata": {},
     "output_type": "execute_result"
    }
   ],
   "source": [
    "lightfm.evaluation.recall_at_k(warp_model, test, train, k=10).mean()"
   ]
  },
  {
   "cell_type": "code",
   "execution_count": 188,
   "metadata": {},
   "outputs": [],
   "source": [
    "recommendations = warp_model.predict(0, np.arange(train.shape[1]))"
   ]
  },
  {
   "cell_type": "code",
   "execution_count": 189,
   "metadata": {},
   "outputs": [
    {
     "data": {
      "text/plain": [
       "array([1176, 1015, 1081,  584,  523,    0, 1250,  360,  591,  315])"
      ]
     },
     "execution_count": 189,
     "metadata": {},
     "output_type": "execute_result"
    }
   ],
   "source": [
    "np.argsort(recommedations)[-10:]"
   ]
  },
  {
   "cell_type": "code",
   "execution_count": 190,
   "metadata": {},
   "outputs": [],
   "source": [
    "get_user_history = lambda user_id, implicit_ratings : [movie_info[movie_info[\"movie_id\"] == x][\"name\"].to_string() \n",
    "                                            for x in implicit_ratings[implicit_ratings[\"user_id\"] == user_id][\"movie_id\"]]"
   ]
  },
  {
   "cell_type": "code",
   "execution_count": 191,
   "metadata": {},
   "outputs": [
    {
     "data": {
      "text/plain": [
       "[\"1176    One Flew Over the Cuckoo's Nest (1975)\",\n",
       " '3339    Erin Brockovich (2000)',\n",
       " \"2286    Bug's Life, A (1998)\",\n",
       " '1267    Ben-Hur (1959)',\n",
       " '2735    Christmas Story, A (1983)',\n",
       " '590    Snow White and the Seven Dwarfs (1937)',\n",
       " '907    Wizard of Oz, The (1939)',\n",
       " '591    Beauty and the Beast (1991)',\n",
       " '926    Gigi (1958)',\n",
       " '2329    Miracle on 34th Street (1947)',\n",
       " \"2849    Ferris Bueller's Day Off (1986)\",\n",
       " '1022    Sound of Music, The (1965)',\n",
       " '2722    Airplane! (1980)',\n",
       " '1949    Bambi (1942)',\n",
       " '3036    Awakenings (1990)',\n",
       " '2728    Big (1988)',\n",
       " '1250    Back to the Future (1985)',\n",
       " \"523    Schindler's List (1993)\",\n",
       " '47    Pocahontas (1995)',\n",
       " '1081    E.T. the Extra-Terrestrial (1982)',\n",
       " '1672    Titanic (1997)',\n",
       " '1506    Ponette (1996)',\n",
       " '2225    Antz (1998)',\n",
       " '3117    Girl, Interrupted (1999)',\n",
       " '1526    Hercules (1997)',\n",
       " '584    Aladdin (1992)',\n",
       " '1838    Mulan (1998)',\n",
       " '773    Hunchback of Notre Dame, The (1996)',\n",
       " '1768    Last Days of Disco, The (1998)',\n",
       " '1009    Cinderella (1950)',\n",
       " '2693    Sixth Sense, The (1999)',\n",
       " '148    Apollo 13 (1995)',\n",
       " '0    Toy Story (1995)',\n",
       " '1892    Rain Man (1988)',\n",
       " '1893    Driving Miss Daisy (1989)',\n",
       " '2623    Run Lola Run (Lola rennt) (1998)',\n",
       " '257    Star Wars: Episode IV - A New Hope (1977)',\n",
       " '1015    Mary Poppins (1964)',\n",
       " '1016    Dumbo (1941)',\n",
       " '1189    To Kill a Mockingbird (1962)',\n",
       " '1959    Saving Private Ryan (1998)',\n",
       " '527    Secret Garden, The (1993)',\n",
       " '3045    Toy Story 2 (1999)',\n",
       " '604    Fargo (1996)',\n",
       " '1226    Dead Poets Society (1989)']"
      ]
     },
     "execution_count": 191,
     "metadata": {},
     "output_type": "execute_result"
    }
   ],
   "source": [
    "get_user_history(0, ratings)"
   ]
  },
  {
   "cell_type": "code",
   "execution_count": 192,
   "metadata": {},
   "outputs": [],
   "source": [
    "recommedations = warp_model.predict(0, movie_info[\"movie_id\"].values)"
   ]
  },
  {
   "cell_type": "code",
   "execution_count": 193,
   "metadata": {},
   "outputs": [],
   "source": [
    "ids = np.argsort(recommedations)[-(10 + 1):]"
   ]
  },
  {
   "cell_type": "code",
   "execution_count": 194,
   "metadata": {},
   "outputs": [
    {
     "data": {
      "text/html": [
       "<div>\n",
       "<style scoped>\n",
       "    .dataframe tbody tr th:only-of-type {\n",
       "        vertical-align: middle;\n",
       "    }\n",
       "\n",
       "    .dataframe tbody tr th {\n",
       "        vertical-align: top;\n",
       "    }\n",
       "\n",
       "    .dataframe thead th {\n",
       "        text-align: right;\n",
       "    }\n",
       "</style>\n",
       "<table border=\"1\" class=\"dataframe\">\n",
       "  <thead>\n",
       "    <tr style=\"text-align: right;\">\n",
       "      <th></th>\n",
       "      <th>movie_id</th>\n",
       "      <th>name</th>\n",
       "      <th>category</th>\n",
       "    </tr>\n",
       "  </thead>\n",
       "  <tbody>\n",
       "    <tr>\n",
       "      <th>0</th>\n",
       "      <td>0</td>\n",
       "      <td>Toy Story (1995)</td>\n",
       "      <td>Animation|Children's|Comedy</td>\n",
       "    </tr>\n",
       "    <tr>\n",
       "      <th>313</th>\n",
       "      <td>315</td>\n",
       "      <td>Stargate (1994)</td>\n",
       "      <td>Action|Adventure|Sci-Fi</td>\n",
       "    </tr>\n",
       "    <tr>\n",
       "      <th>357</th>\n",
       "      <td>360</td>\n",
       "      <td>It Could Happen to You (1994)</td>\n",
       "      <td>Drama|Romance</td>\n",
       "    </tr>\n",
       "    <tr>\n",
       "      <th>520</th>\n",
       "      <td>523</td>\n",
       "      <td>Rudy (1993)</td>\n",
       "      <td>Drama</td>\n",
       "    </tr>\n",
       "    <tr>\n",
       "      <th>581</th>\n",
       "      <td>584</td>\n",
       "      <td>Brady Bunch Movie, The (1995)</td>\n",
       "      <td>Comedy</td>\n",
       "    </tr>\n",
       "    <tr>\n",
       "      <th>588</th>\n",
       "      <td>591</td>\n",
       "      <td>Batman (1989)</td>\n",
       "      <td>Action|Adventure|Crime|Drama</td>\n",
       "    </tr>\n",
       "    <tr>\n",
       "      <th>1003</th>\n",
       "      <td>1015</td>\n",
       "      <td>Shaggy Dog, The (1959)</td>\n",
       "      <td>Children's|Comedy</td>\n",
       "    </tr>\n",
       "    <tr>\n",
       "      <th>1066</th>\n",
       "      <td>1081</td>\n",
       "      <td>Candidate, The (1972)</td>\n",
       "      <td>Drama</td>\n",
       "    </tr>\n",
       "    <tr>\n",
       "      <th>1161</th>\n",
       "      <td>1176</td>\n",
       "      <td>Enchanted April (1991)</td>\n",
       "      <td>Drama</td>\n",
       "    </tr>\n",
       "    <tr>\n",
       "      <th>1231</th>\n",
       "      <td>1250</td>\n",
       "      <td>8 1/2 (1963)</td>\n",
       "      <td>Drama</td>\n",
       "    </tr>\n",
       "    <tr>\n",
       "      <th>2977</th>\n",
       "      <td>3045</td>\n",
       "      <td>Incredibly True Adventure of Two Girls in Love...</td>\n",
       "      <td>Comedy|Romance</td>\n",
       "    </tr>\n",
       "  </tbody>\n",
       "</table>\n",
       "</div>"
      ],
      "text/plain": [
       "      movie_id                                               name  \\\n",
       "0            0                                   Toy Story (1995)   \n",
       "313        315                                    Stargate (1994)   \n",
       "357        360                      It Could Happen to You (1994)   \n",
       "520        523                                        Rudy (1993)   \n",
       "581        584                      Brady Bunch Movie, The (1995)   \n",
       "588        591                                      Batman (1989)   \n",
       "1003      1015                             Shaggy Dog, The (1959)   \n",
       "1066      1081                              Candidate, The (1972)   \n",
       "1161      1176                             Enchanted April (1991)   \n",
       "1231      1250                                       8 1/2 (1963)   \n",
       "2977      3045  Incredibly True Adventure of Two Girls in Love...   \n",
       "\n",
       "                          category  \n",
       "0      Animation|Children's|Comedy  \n",
       "313        Action|Adventure|Sci-Fi  \n",
       "357                  Drama|Romance  \n",
       "520                          Drama  \n",
       "581                         Comedy  \n",
       "588   Action|Adventure|Crime|Drama  \n",
       "1003             Children's|Comedy  \n",
       "1066                         Drama  \n",
       "1161                         Drama  \n",
       "1231                         Drama  \n",
       "2977                Comedy|Romance  "
      ]
     },
     "execution_count": 194,
     "metadata": {},
     "output_type": "execute_result"
    }
   ],
   "source": [
    "movie_info[movie_info['movie_id'].isin(ids)]"
   ]
  },
  {
   "cell_type": "markdown",
   "metadata": {},
   "source": [
    "Предсказания что посмотреть в принципе норм, Бетмен, детские комедии. Но попадают и откровенно лишние результаты, например последний кажется совсем не подходит детям."
   ]
  },
  {
   "cell_type": "markdown",
   "metadata": {},
   "source": [
    "NCF"
   ]
  },
  {
   "cell_type": "code",
   "execution_count": 11,
   "metadata": {},
   "outputs": [],
   "source": [
    "user_item_np = user_item.toarray()"
   ]
  },
  {
   "cell_type": "code",
   "execution_count": 13,
   "metadata": {},
   "outputs": [],
   "source": [
    "import itertools"
   ]
  },
  {
   "cell_type": "code",
   "execution_count": 169,
   "metadata": {},
   "outputs": [],
   "source": [
    "class NCFData(data.Dataset):\n",
    "    def __init__(self, data, ng_num=0, whole_data=None, is_training=True):\n",
    "        super().__init__()\n",
    "        self.data = data\n",
    "        self.ng_num = ng_num\n",
    "        self.whole_data = whole_data\n",
    "        self.init_positive_data()\n",
    "        self.is_training = is_training\n",
    "        self.inited = False\n",
    "        if self.is_training:\n",
    "            self.neg_resample()\n",
    "        else:\n",
    "            self.init_testing_data()\n",
    "            \n",
    "        self.inited = True\n",
    "    \n",
    "    def init_positive_data(self):\n",
    "        self.positives = [np.nonzero(self.data[idx])[0] for idx in range(self.data.shape[0])]\n",
    "        self.users = list(itertools.chain.from_iterable([[idx]*len(self.positives[idx]) for idx in range(self.data.shape[0])]))\n",
    "        self.items = list(itertools.chain.from_iterable([[item for item in self.positives[idx]] for idx in range(self.data.shape[0])]))\n",
    "        self.labels = list(np.ones(len(self.users)))\n",
    "        self.orig_users_len = len(self.users)\n",
    "        \n",
    "    def fill_testing_items(self, user_id):\n",
    "        items = []\n",
    "        nonzero_indices = np.nonzero(self.data[user_id])[0]\n",
    "        if len(nonzero_indices) == 0:\n",
    "            return []\n",
    "        items.append(nonzero_indices[0])\n",
    "        zero_indices = np.where(self.whole_data[user_id] == 0)[0]\n",
    "        items.extend(list(np.random.choice(zero_indices, size=self.ng_num, replace=False)))\n",
    "        return items\n",
    "    \n",
    "    \n",
    "    def init_testing_data(self):\n",
    "        valid_user_indices = []\n",
    "        for idx in range(self.data.shape[0]):\n",
    "            if len(np.nonzero(self.data[idx])[0]) > 0:\n",
    "                valid_user_indices.append(idx)\n",
    "        self.users = list(itertools.chain.from_iterable([[idx]*(self.ng_num+1) for idx in valid_user_indices]))\n",
    "        self.items = list(itertools.chain.from_iterable(self.fill_testing_items(idx) for idx in valid_user_indices)) \n",
    "        self.labels = list(np.zeros(len(self.users)))\n",
    "        \n",
    "        \n",
    "    def neg_resample(self):\n",
    "        if self.inited:\n",
    "            self.users = self.users[:self.orig_users_len]\n",
    "            self.items = self.items[:self.orig_users_len]\n",
    "            self.labels = self.labels[:self.orig_users_len]\n",
    "        for idx in range(self.data.shape[0]):\n",
    "            self.users.extend([idx]*self.ng_num)\n",
    "            zero_indices = np.where(self.data[idx] == 0)[0]\n",
    "            self.items.extend(list(np.random.choice(zero_indices, size=self.ng_num, replace=False)))\n",
    "            self.labels.extend(list(np.zeros(self.ng_num)))\n",
    "    \n",
    "    def __getitem__(self, idx):\n",
    "        return self.users[idx], self.items[idx], self.labels[idx]\n",
    "    \n",
    "    def __len__(self):\n",
    "        return len(self.labels)"
   ]
  },
  {
   "cell_type": "code",
   "execution_count": 170,
   "metadata": {},
   "outputs": [],
   "source": [
    "train_dataset = NCFData(\n",
    "        train.toarray(), 400)"
   ]
  },
  {
   "cell_type": "code",
   "execution_count": 171,
   "metadata": {},
   "outputs": [],
   "source": [
    "test_dataset = NCFData(\n",
    "        test.toarray(), 99, is_training=False, whole_data=user_item.toarray())\n",
    "train_loader = data.DataLoader(train_dataset,\n",
    "        batch_size=8192, shuffle=True, num_workers=4)\n",
    "test_loader = data.DataLoader(test_dataset,\n",
    "        batch_size=100, shuffle=False, num_workers=0)"
   ]
  },
  {
   "cell_type": "code",
   "execution_count": 172,
   "metadata": {},
   "outputs": [],
   "source": [
    "import torch\n",
    "import torch.nn as nn\n",
    "import torch.nn.functional as F \n",
    "\n",
    "\n",
    "class NCF(nn.Module):\n",
    "    def __init__(self, user_num, item_num, factor_num, num_layers,\n",
    "                    dropout):\n",
    "        super().__init__()   \n",
    "        self.dropout = dropout\n",
    "\n",
    "        self.embed_user_GMF = nn.Embedding(user_num, factor_num)\n",
    "        self.embed_item_GMF = nn.Embedding(item_num, factor_num)\n",
    "        self.embed_user_MLP = nn.Embedding(\n",
    "                user_num, factor_num * (2 ** (num_layers - 1)))\n",
    "        self.embed_item_MLP = nn.Embedding(\n",
    "                item_num, factor_num * (2 ** (num_layers - 1)))\n",
    "\n",
    "        MLP_modules = []\n",
    "        for i in range(num_layers):\n",
    "            input_size = factor_num * (2 ** (num_layers - i))\n",
    "            MLP_modules.append(nn.Dropout(p= self.dropout))\n",
    "            MLP_modules.append(nn.Linear(input_size, input_size//2))\n",
    "            MLP_modules.append(nn.ReLU())\n",
    "        self.MLP_layers = nn.Sequential(*MLP_modules)\n",
    "\n",
    "        predict_size = factor_num * 2\n",
    "        self.predict_layer = nn.Linear(predict_size, 1)\n",
    "\n",
    "    def forward(self, user, item):\n",
    "        embed_user_GMF = self.embed_user_GMF(user)\n",
    "        embed_item_GMF = self.embed_item_GMF(item)\n",
    "        output_GMF = embed_user_GMF * embed_item_GMF\n",
    "        embed_user_MLP = self.embed_user_MLP(user)\n",
    "        embed_item_MLP = self.embed_item_MLP(item)\n",
    "        interaction = torch.cat((embed_user_MLP, embed_item_MLP), -1)\n",
    "        output_MLP = self.MLP_layers(interaction)\n",
    "\n",
    "        concat = torch.cat((output_GMF, output_MLP), -1)\n",
    "\n",
    "        prediction = self.predict_layer(concat)\n",
    "        return prediction.view(-1)\n"
   ]
  },
  {
   "cell_type": "code",
   "execution_count": 173,
   "metadata": {},
   "outputs": [],
   "source": [
    "model = NCF(user_item.shape[0], user_item.shape[1], 128, 4, 0.)"
   ]
  },
  {
   "cell_type": "code",
   "execution_count": 174,
   "metadata": {},
   "outputs": [],
   "source": [
    "model.cuda()\n",
    "loss_function = nn.BCEWithLogitsLoss()"
   ]
  },
  {
   "cell_type": "code",
   "execution_count": 175,
   "metadata": {},
   "outputs": [],
   "source": [
    "optimizer = optim.Adam(model.parameters(), lr=0.001)\n"
   ]
  },
  {
   "cell_type": "code",
   "execution_count": 176,
   "metadata": {},
   "outputs": [],
   "source": [
    "import numpy as np\n",
    "\n",
    "def hit(gt_item, pred_items):\n",
    "    if gt_item in pred_items:\n",
    "        return 1\n",
    "    return 0\n",
    "\n",
    "\n",
    "def ndcg(gt_item, pred_items):\n",
    "    if gt_item in pred_items:\n",
    "        index = pred_items.index(gt_item)\n",
    "        return np.reciprocal(np.log2(index+2))\n",
    "    return 0\n",
    "\n",
    "\n",
    "def metrics(model, test_loader, top_k):\n",
    "    HR, NDCG = [], []\n",
    "\n",
    "    for user, item, label in test_loader:\n",
    "        user = user.cuda()\n",
    "        item = item.cuda()\n",
    "        with torch.no_grad():\n",
    "            predictions = model(user, item)\n",
    "        _, indices = torch.topk(predictions, top_k)\n",
    "        recommends = torch.take(\n",
    "                item, indices).cpu().numpy().tolist()\n",
    "\n",
    "        gt_item = item[0].item()\n",
    "        HR.append(hit(gt_item, recommends))\n",
    "        NDCG.append(ndcg(gt_item, recommends))\n",
    "    return np.mean(HR), np.mean(NDCG)\n"
   ]
  },
  {
   "cell_type": "code",
   "execution_count": 177,
   "metadata": {},
   "outputs": [
    {
     "data": {
      "application/vnd.jupyter.widget-view+json": {
       "model_id": "2e0e68c61ab149768424e2b0b28ae328",
       "version_major": 2,
       "version_minor": 0
      },
      "text/plain": [
       "HBox(children=(HTML(value=''), FloatProgress(value=0.0, max=388.0), HTML(value='')))"
      ]
     },
     "metadata": {},
     "output_type": "display_data"
    },
    {
     "name": "stdout",
     "output_type": "stream",
     "text": [
      "\n",
      "0.3258693218231201\n",
      "HR: 0.681\tNDCG: 0.441\n"
     ]
    },
    {
     "data": {
      "application/vnd.jupyter.widget-view+json": {
       "model_id": "f279770355b94744b98b8fef8a8bc729",
       "version_major": 2,
       "version_minor": 0
      },
      "text/plain": [
       "HBox(children=(HTML(value=''), FloatProgress(value=0.0, max=388.0), HTML(value='')))"
      ]
     },
     "metadata": {},
     "output_type": "display_data"
    },
    {
     "name": "stdout",
     "output_type": "stream",
     "text": [
      "\n",
      "0.3039441704750061\n",
      "HR: 0.681\tNDCG: 0.446\n"
     ]
    },
    {
     "data": {
      "application/vnd.jupyter.widget-view+json": {
       "model_id": "688146186bb34bd3a63bee9d150ba89d",
       "version_major": 2,
       "version_minor": 0
      },
      "text/plain": [
       "HBox(children=(HTML(value=''), FloatProgress(value=0.0, max=388.0), HTML(value='')))"
      ]
     },
     "metadata": {},
     "output_type": "display_data"
    },
    {
     "name": "stdout",
     "output_type": "stream",
     "text": [
      "\n",
      "0.3211066424846649\n",
      "HR: 0.724\tNDCG: 0.470\n"
     ]
    },
    {
     "data": {
      "application/vnd.jupyter.widget-view+json": {
       "model_id": "359f4507d79a4d398cf1059dcf787076",
       "version_major": 2,
       "version_minor": 0
      },
      "text/plain": [
       "HBox(children=(HTML(value=''), FloatProgress(value=0.0, max=388.0), HTML(value='')))"
      ]
     },
     "metadata": {},
     "output_type": "display_data"
    },
    {
     "name": "stdout",
     "output_type": "stream",
     "text": [
      "\n",
      "0.29095372557640076\n",
      "HR: 0.752\tNDCG: 0.477\n"
     ]
    },
    {
     "data": {
      "application/vnd.jupyter.widget-view+json": {
       "model_id": "9e0805b49ab5480cbe9c1eb675c90886",
       "version_major": 2,
       "version_minor": 0
      },
      "text/plain": [
       "HBox(children=(HTML(value=''), FloatProgress(value=0.0, max=388.0), HTML(value='')))"
      ]
     },
     "metadata": {},
     "output_type": "display_data"
    },
    {
     "name": "stdout",
     "output_type": "stream",
     "text": [
      "\n",
      "0.2614993155002594\n",
      "HR: 0.770\tNDCG: 0.504\n"
     ]
    },
    {
     "data": {
      "application/vnd.jupyter.widget-view+json": {
       "model_id": "a5bfe6f89fa641caab18b98990652a6c",
       "version_major": 2,
       "version_minor": 0
      },
      "text/plain": [
       "HBox(children=(HTML(value=''), FloatProgress(value=0.0, max=388.0), HTML(value='')))"
      ]
     },
     "metadata": {},
     "output_type": "display_data"
    },
    {
     "name": "stdout",
     "output_type": "stream",
     "text": [
      "\n",
      "0.2178661972284317\n",
      "HR: 0.775\tNDCG: 0.517\n"
     ]
    },
    {
     "data": {
      "application/vnd.jupyter.widget-view+json": {
       "model_id": "aee203963854463482492ef8ba78c11b",
       "version_major": 2,
       "version_minor": 0
      },
      "text/plain": [
       "HBox(children=(HTML(value=''), FloatProgress(value=0.0, max=388.0), HTML(value='')))"
      ]
     },
     "metadata": {},
     "output_type": "display_data"
    },
    {
     "name": "stdout",
     "output_type": "stream",
     "text": [
      "\n",
      "0.22636303305625916\n",
      "HR: 0.786\tNDCG: 0.528\n"
     ]
    }
   ],
   "source": [
    "from tqdm.notebook import tqdm\n",
    "for epoch in range(7):\n",
    "    model.train()\n",
    "    for user, item, label in tqdm(train_loader):\n",
    "        user = user.cuda()\n",
    "        item = item.cuda()\n",
    "        label = label.float().cuda()\n",
    "\n",
    "        model.zero_grad()\n",
    "        prediction = model(user, item)\n",
    "        loss = loss_function(prediction, label)\n",
    "        loss.backward()\n",
    "        optimizer.step()\n",
    "    print(loss.item())\n",
    "    model.eval()\n",
    "    HR, NDCG = metrics(model, test_loader, 10)\n",
    "    train_loader.dataset.neg_resample()\n",
    "    print(\"HR: {:.3f}\\tNDCG: {:.3f}\".format(np.mean(HR), np.mean(NDCG)))"
   ]
  },
  {
   "cell_type": "code",
   "execution_count": 108,
   "metadata": {},
   "outputs": [
    {
     "data": {
      "text/html": [
       "<div>\n",
       "<style scoped>\n",
       "    .dataframe tbody tr th:only-of-type {\n",
       "        vertical-align: middle;\n",
       "    }\n",
       "\n",
       "    .dataframe tbody tr th {\n",
       "        vertical-align: top;\n",
       "    }\n",
       "\n",
       "    .dataframe thead th {\n",
       "        text-align: right;\n",
       "    }\n",
       "</style>\n",
       "<table border=\"1\" class=\"dataframe\">\n",
       "  <thead>\n",
       "    <tr style=\"text-align: right;\">\n",
       "      <th></th>\n",
       "      <th>movie_id</th>\n",
       "      <th>name</th>\n",
       "      <th>category</th>\n",
       "    </tr>\n",
       "  </thead>\n",
       "  <tbody>\n",
       "    <tr>\n",
       "      <th>49</th>\n",
       "      <td>49</td>\n",
       "      <td>Usual Suspects, The (1995)</td>\n",
       "      <td>Crime|Thriller</td>\n",
       "    </tr>\n",
       "  </tbody>\n",
       "</table>\n",
       "</div>"
      ],
      "text/plain": [
       "    movie_id                        name        category\n",
       "49        49  Usual Suspects, The (1995)  Crime|Thriller"
      ]
     },
     "execution_count": 108,
     "metadata": {},
     "output_type": "execute_result"
    }
   ],
   "source": [
    "movie_info[movie_info['movie_id'] == 49]"
   ]
  },
  {
   "cell_type": "code",
   "execution_count": null,
   "metadata": {},
   "outputs": [],
   "source": []
  },
  {
   "cell_type": "code",
   "execution_count": 178,
   "metadata": {},
   "outputs": [
    {
     "data": {
      "text/plain": [
       "['0    Toy Story (1995)',\n",
       " '3045    Toy Story 2 (1999)',\n",
       " '1595    Full Monty, The (1997)',\n",
       " '360    Lion King, The (1994)',\n",
       " \"2497    Doug's 1st Movie (1999)\",\n",
       " '614    Two Much (1996)',\n",
       " '3144    Batman: Mask of the Phantasm (1993)',\n",
       " '2692    Iron Giant, The (1999)',\n",
       " '591    Beauty and the Beast (1991)',\n",
       " '1050    Aladdin and the King of Thieves (1996)',\n",
       " '1642    Anastasia (1997)',\n",
       " '414    Being Human (1993)',\n",
       " '2225    Antz (1998)',\n",
       " '2023    Return of Jafar, The (1993)',\n",
       " '1760    Big One, The (1997)']"
      ]
     },
     "execution_count": 178,
     "metadata": {},
     "output_type": "execute_result"
    }
   ],
   "source": [
    "get_similars_items = lambda item_id, sim : [movie_info[movie_info[\"movie_id\"] == x][\"name\"].to_string() \n",
    "                                        for x in reversed(np.argsort(sim[item_id,:])[-15:])]\n",
    "\n",
    "get_similars_items(0, cosine_similarity(model.embed_item_GMF.weight.detach().cpu().numpy()))"
   ]
  },
  {
   "cell_type": "code",
   "execution_count": 193,
   "metadata": {},
   "outputs": [],
   "source": [
    "it = iter(test_loader)"
   ]
  },
  {
   "cell_type": "code",
   "execution_count": 196,
   "metadata": {},
   "outputs": [
    {
     "data": {
      "text/plain": [
       "[tensor([2, 2, 2, 2, 2, 2, 2, 2, 2, 2, 2, 2, 2, 2, 2, 2, 2, 2, 2, 2, 2, 2, 2, 2,\n",
       "         2, 2, 2, 2, 2, 2, 2, 2, 2, 2, 2, 2, 2, 2, 2, 2, 2, 2, 2, 2, 2, 2, 2, 2,\n",
       "         2, 2, 2, 2, 2, 2, 2, 2, 2, 2, 2, 2, 2, 2, 2, 2, 2, 2, 2, 2, 2, 2, 2, 2,\n",
       "         2, 2, 2, 2, 2, 2, 2, 2, 2, 2, 2, 2, 2, 2, 2, 2, 2, 2, 2, 2, 2, 2, 2, 2,\n",
       "         2, 2, 2, 2]),\n",
       " tensor([ 647, 2418, 3651, 3103, 3653, 3225, 3693, 3144, 3738, 3685, 3422, 1620,\n",
       "         1137, 2326, 2968, 3719,  817, 2757,  440, 3342, 2388, 3400, 2228, 2245,\n",
       "         1410, 2544, 1549, 3807, 1630, 3934, 3826, 2934,  760, 3121,  311,  412,\n",
       "          751,  156, 2928,  370,  413, 2514, 3567,  838,  539, 3818, 3035,  456,\n",
       "         2173, 1025, 3002,  661,  704, 1008,  839, 1700,  362,  222, 3748,  102,\n",
       "         1146, 1167, 1957,  898, 1487, 2862, 3740, 3856, 3274, 1918, 2443, 2289,\n",
       "         2219, 3416,  668, 2479, 1420, 3125, 3114,  533, 1996, 3238,  302, 3468,\n",
       "          674, 2683,  806, 3849,  842, 2622, 3537, 3515, 2744, 2743, 1308,  340,\n",
       "         3044, 1156,  321, 3216]),\n",
       " tensor([0., 0., 0., 0., 0., 0., 0., 0., 0., 0., 0., 0., 0., 0., 0., 0., 0., 0., 0., 0., 0., 0., 0., 0.,\n",
       "         0., 0., 0., 0., 0., 0., 0., 0., 0., 0., 0., 0., 0., 0., 0., 0., 0., 0., 0., 0., 0., 0., 0., 0.,\n",
       "         0., 0., 0., 0., 0., 0., 0., 0., 0., 0., 0., 0., 0., 0., 0., 0., 0., 0., 0., 0., 0., 0., 0., 0.,\n",
       "         0., 0., 0., 0., 0., 0., 0., 0., 0., 0., 0., 0., 0., 0., 0., 0., 0., 0., 0., 0., 0., 0., 0., 0.,\n",
       "         0., 0., 0., 0.])]"
      ]
     },
     "execution_count": 196,
     "metadata": {},
     "output_type": "execute_result"
    }
   ],
   "source": [
    "next(it)"
   ]
  },
  {
   "cell_type": "code",
   "execution_count": 197,
   "metadata": {},
   "outputs": [],
   "source": [
    "user, item, label = next(it)"
   ]
  },
  {
   "cell_type": "code",
   "execution_count": 198,
   "metadata": {},
   "outputs": [],
   "source": [
    "user = user.cuda()\n",
    "item = item.cuda()\n",
    "\n",
    "with torch.no_grad():\n",
    "    predictions = model(user, item)"
   ]
  },
  {
   "cell_type": "code",
   "execution_count": 199,
   "metadata": {},
   "outputs": [],
   "source": [
    "_, indices = torch.topk(predictions, 10)\n",
    "\n",
    "recommends = torch.take(\n",
    "        item, indices).cpu().numpy().tolist()"
   ]
  },
  {
   "cell_type": "code",
   "execution_count": 200,
   "metadata": {},
   "outputs": [
    {
     "data": {
      "text/html": [
       "<div>\n",
       "<style scoped>\n",
       "    .dataframe tbody tr th:only-of-type {\n",
       "        vertical-align: middle;\n",
       "    }\n",
       "\n",
       "    .dataframe tbody tr th {\n",
       "        vertical-align: top;\n",
       "    }\n",
       "\n",
       "    .dataframe thead th {\n",
       "        text-align: right;\n",
       "    }\n",
       "</style>\n",
       "<table border=\"1\" class=\"dataframe\">\n",
       "  <thead>\n",
       "    <tr style=\"text-align: right;\">\n",
       "      <th></th>\n",
       "      <th>movie_id</th>\n",
       "      <th>name</th>\n",
       "      <th>category</th>\n",
       "    </tr>\n",
       "  </thead>\n",
       "  <tbody>\n",
       "    <tr>\n",
       "      <th>471</th>\n",
       "      <td>474</td>\n",
       "      <td>In the Name of the Father (1993)</td>\n",
       "      <td>Drama</td>\n",
       "    </tr>\n",
       "    <tr>\n",
       "      <th>847</th>\n",
       "      <td>857</td>\n",
       "      <td>Godfather, The (1972)</td>\n",
       "      <td>Action|Crime|Drama</td>\n",
       "    </tr>\n",
       "    <tr>\n",
       "      <th>1183</th>\n",
       "      <td>1200</td>\n",
       "      <td>Good, The Bad and The Ugly, The (1966)</td>\n",
       "      <td>Action|Western</td>\n",
       "    </tr>\n",
       "    <tr>\n",
       "      <th>2209</th>\n",
       "      <td>2277</td>\n",
       "      <td>Ronin (1998)</td>\n",
       "      <td>Action|Crime|Thriller</td>\n",
       "    </tr>\n",
       "    <tr>\n",
       "      <th>2334</th>\n",
       "      <td>2402</td>\n",
       "      <td>First Blood (1982)</td>\n",
       "      <td>Action</td>\n",
       "    </tr>\n",
       "    <tr>\n",
       "      <th>2631</th>\n",
       "      <td>2699</td>\n",
       "      <td>South Park: Bigger, Longer and Uncut (1999)</td>\n",
       "      <td>Animation|Comedy</td>\n",
       "    </tr>\n",
       "    <tr>\n",
       "      <th>3410</th>\n",
       "      <td>3478</td>\n",
       "      <td>Ladyhawke (1985)</td>\n",
       "      <td>Adventure|Fantasy|Romance</td>\n",
       "    </tr>\n",
       "    <tr>\n",
       "      <th>3509</th>\n",
       "      <td>3577</td>\n",
       "      <td>Gladiator (2000)</td>\n",
       "      <td>Action|Drama</td>\n",
       "    </tr>\n",
       "    <tr>\n",
       "      <th>3569</th>\n",
       "      <td>3637</td>\n",
       "      <td>Moonraker (1979)</td>\n",
       "      <td>Action|Romance|Sci-Fi</td>\n",
       "    </tr>\n",
       "    <tr>\n",
       "      <th>3694</th>\n",
       "      <td>3762</td>\n",
       "      <td>F/X (1986)</td>\n",
       "      <td>Action|Crime|Thriller</td>\n",
       "    </tr>\n",
       "  </tbody>\n",
       "</table>\n",
       "</div>"
      ],
      "text/plain": [
       "      movie_id                                         name  \\\n",
       "471        474             In the Name of the Father (1993)   \n",
       "847        857                        Godfather, The (1972)   \n",
       "1183      1200       Good, The Bad and The Ugly, The (1966)   \n",
       "2209      2277                                 Ronin (1998)   \n",
       "2334      2402                           First Blood (1982)   \n",
       "2631      2699  South Park: Bigger, Longer and Uncut (1999)   \n",
       "3410      3478                             Ladyhawke (1985)   \n",
       "3509      3577                             Gladiator (2000)   \n",
       "3569      3637                             Moonraker (1979)   \n",
       "3694      3762                                   F/X (1986)   \n",
       "\n",
       "                       category  \n",
       "471                       Drama  \n",
       "847          Action|Crime|Drama  \n",
       "1183             Action|Western  \n",
       "2209      Action|Crime|Thriller  \n",
       "2334                     Action  \n",
       "2631           Animation|Comedy  \n",
       "3410  Adventure|Fantasy|Romance  \n",
       "3509               Action|Drama  \n",
       "3569      Action|Romance|Sci-Fi  \n",
       "3694      Action|Crime|Thriller  "
      ]
     },
     "execution_count": 200,
     "metadata": {},
     "output_type": "execute_result"
    }
   ],
   "source": [
    "movie_info[movie_info['movie_id'].isin(recommends)]"
   ]
  },
  {
   "cell_type": "code",
   "execution_count": null,
   "metadata": {},
   "outputs": [],
   "source": []
  },
  {
   "cell_type": "markdown",
   "metadata": {},
   "source": [
    "Можно было учить еще и перебирать больше параметров, <font size=\"0.5\">но у меня горел дедлайн (да, даже продленный, тайм-менеджмент это не мое)</font>"
   ]
  },
  {
   "cell_type": "markdown",
   "metadata": {},
   "source": [
    "# Attention"
   ]
  },
  {
   "cell_type": "code",
   "execution_count": 120,
   "metadata": {},
   "outputs": [],
   "source": [
    "from torch.nn import MultiheadAttention"
   ]
  },
  {
   "cell_type": "code",
   "execution_count": 121,
   "metadata": {},
   "outputs": [],
   "source": [
    "import torch\n",
    "import torch.nn as nn\n",
    "import torch.nn.functional as F \n",
    "\n",
    "\n",
    "class Attention(nn.Module):\n",
    "    def __init__(self, user_num, item_num, factor_num, num_layers,\n",
    "                    dropout):\n",
    "        super().__init__()   \n",
    "        self.dropout = dropout\n",
    "\n",
    "        self.embed_user_GMF = nn.Embedding(user_num, factor_num)\n",
    "        self.embed_item_GMF = nn.Embedding(item_num, factor_num)\n",
    "\n",
    "        MLP_modules = []\n",
    "        \n",
    "        self.mh = MultiheadAttention(factor_num*4, num_heads=4, kdim=factor_num, vdim=factor_num)\n",
    "\n",
    " \n",
    "        self.mlp= nn.Linear(512,256)\n",
    "\n",
    "        self.predict_layer = nn.Linear(256, 1)\n",
    "\n",
    "    def forward(self, user, item):\n",
    "        embed_user_GMF = self.embed_user_GMF(user)\n",
    "        embed_item_GMF = self.embed_item_GMF(item)\n",
    "        output_GMF = embed_user_GMF * embed_item_GMF\n",
    "        output_GMF = output_GMF.unsqueeze(0)\n",
    "        output_mh = self.mh(output_GMF.repeat(1,1,4), output_GMF, output_GMF)[0]\n",
    "        output_MLP = F.relu(self.mlp(output_mh))\n",
    "\n",
    "        prediction = self.predict_layer(output_MLP)\n",
    "        return prediction.view(-1)\n"
   ]
  },
  {
   "cell_type": "code",
   "execution_count": 122,
   "metadata": {},
   "outputs": [],
   "source": [
    "model = Attention(user_item.shape[0], user_item.shape[1], 128, 4, 0.)"
   ]
  },
  {
   "cell_type": "code",
   "execution_count": 123,
   "metadata": {},
   "outputs": [],
   "source": [
    "model.cuda()\n",
    "loss_function = nn.BCEWithLogitsLoss()"
   ]
  },
  {
   "cell_type": "code",
   "execution_count": 124,
   "metadata": {},
   "outputs": [],
   "source": [
    "optimizer = optim.Adam(model.parameters(), lr=0.001)\n"
   ]
  },
  {
   "cell_type": "code",
   "execution_count": 125,
   "metadata": {},
   "outputs": [],
   "source": [
    "import numpy as np\n",
    "\n",
    "def hit(gt_item, pred_items):\n",
    "    if gt_item in pred_items:\n",
    "        return 1\n",
    "    return 0\n",
    "\n",
    "\n",
    "def ndcg(gt_item, pred_items):\n",
    "    if gt_item in pred_items:\n",
    "        index = pred_items.index(gt_item)\n",
    "        return np.reciprocal(np.log2(index+2))\n",
    "    return 0\n",
    "\n",
    "\n",
    "def metrics(model, test_loader, top_k):\n",
    "    HR, NDCG = [], []\n",
    "\n",
    "    for user, item, label in test_loader:\n",
    "        user = user.cuda()\n",
    "        item = item.cuda()\n",
    "        with torch.no_grad():\n",
    "            predictions = model(user, item)\n",
    "        _, indices = torch.topk(predictions, top_k)\n",
    "        recommends = torch.take(\n",
    "                item, indices).cpu().numpy().tolist()\n",
    "\n",
    "        gt_item = item[0].item()\n",
    "        HR.append(hit(gt_item, recommends))\n",
    "        NDCG.append(ndcg(gt_item, recommends))\n",
    "    return np.mean(HR), np.mean(NDCG)\n"
   ]
  },
  {
   "cell_type": "code",
   "execution_count": 126,
   "metadata": {},
   "outputs": [
    {
     "data": {
      "application/vnd.jupyter.widget-view+json": {
       "model_id": "830cf53c1e8744ab9c133ade0cf6b852",
       "version_major": 2,
       "version_minor": 0
      },
      "text/plain": [
       "HBox(children=(HTML(value=''), FloatProgress(value=0.0, max=388.0), HTML(value='')))"
      ]
     },
     "metadata": {},
     "output_type": "display_data"
    },
    {
     "name": "stdout",
     "output_type": "stream",
     "text": [
      "\n",
      "0.4276605248451233\n",
      "HR: 0.533\tNDCG: 0.289\n"
     ]
    },
    {
     "data": {
      "application/vnd.jupyter.widget-view+json": {
       "model_id": "ae1741dff2744c4792e2c32944bd5641",
       "version_major": 2,
       "version_minor": 0
      },
      "text/plain": [
       "HBox(children=(HTML(value=''), FloatProgress(value=0.0, max=388.0), HTML(value='')))"
      ]
     },
     "metadata": {},
     "output_type": "display_data"
    },
    {
     "name": "stdout",
     "output_type": "stream",
     "text": [
      "\n",
      "0.3467268645763397\n",
      "HR: 0.640\tNDCG: 0.385\n"
     ]
    },
    {
     "data": {
      "application/vnd.jupyter.widget-view+json": {
       "model_id": "dc42a3dfee1044618cf2871cfec4f89c",
       "version_major": 2,
       "version_minor": 0
      },
      "text/plain": [
       "HBox(children=(HTML(value=''), FloatProgress(value=0.0, max=388.0), HTML(value='')))"
      ]
     },
     "metadata": {},
     "output_type": "display_data"
    },
    {
     "name": "stdout",
     "output_type": "stream",
     "text": [
      "\n",
      "0.3348104953765869\n",
      "HR: 0.642\tNDCG: 0.401\n"
     ]
    },
    {
     "data": {
      "application/vnd.jupyter.widget-view+json": {
       "model_id": "adbc3d07f3ec4c578746323142fde7b1",
       "version_major": 2,
       "version_minor": 0
      },
      "text/plain": [
       "HBox(children=(HTML(value=''), FloatProgress(value=0.0, max=388.0), HTML(value='')))"
      ]
     },
     "metadata": {},
     "output_type": "display_data"
    },
    {
     "name": "stdout",
     "output_type": "stream",
     "text": [
      "\n",
      "0.3202703595161438\n",
      "HR: 0.650\tNDCG: 0.403\n"
     ]
    },
    {
     "data": {
      "application/vnd.jupyter.widget-view+json": {
       "model_id": "359ecf7c79b346da8e3b8abd1120620b",
       "version_major": 2,
       "version_minor": 0
      },
      "text/plain": [
       "HBox(children=(HTML(value=''), FloatProgress(value=0.0, max=388.0), HTML(value='')))"
      ]
     },
     "metadata": {},
     "output_type": "display_data"
    },
    {
     "name": "stdout",
     "output_type": "stream",
     "text": [
      "\n",
      "0.33680275082588196\n",
      "HR: 0.647\tNDCG: 0.407\n"
     ]
    }
   ],
   "source": [
    "from tqdm.notebook import tqdm\n",
    "for epoch in range(5):\n",
    "    model.train()\n",
    "    for user, item, label in tqdm(train_loader):\n",
    "        user = user.cuda()\n",
    "        item = item.cuda()\n",
    "        label = label.float().cuda()\n",
    "\n",
    "        model.zero_grad()\n",
    "        prediction = model(user, item)\n",
    "        loss = loss_function(prediction, label)\n",
    "        loss.backward()\n",
    "        optimizer.step()\n",
    "    print(loss.item())\n",
    "    model.eval()\n",
    "    HR, NDCG = metrics(model, test_loader, 10)\n",
    "    train_loader.dataset.neg_resample()\n",
    "    print(\"HR: {:.3f}\\tNDCG: {:.3f}\".format(np.mean(HR), np.mean(NDCG)))"
   ]
  },
  {
   "cell_type": "code",
   "execution_count": 135,
   "metadata": {
    "scrolled": true
   },
   "outputs": [
    {
     "data": {
      "text/plain": [
       "['25    Othello (1995)',\n",
       " '1311    Audrey Rose (1977)',\n",
       " '1014    Robin Hood: Prince of Thieves (1991)',\n",
       " '2341    Rocky III (1982)',\n",
       " '1798    Tarzan and the Lost City (1998)',\n",
       " '319    Swimming with Sharks (1995)',\n",
       " '1972    Condorman (1981)',\n",
       " '609    Jane Eyre (1996)',\n",
       " '3271    Bride of the Monster (1956)',\n",
       " '268    Losing Isaiah (1995)',\n",
       " '1514    Late Bloomers (1996)',\n",
       " '2912    Brother, Can You Spare a Dime? (1975)',\n",
       " '3000    Effect of Gamma Rays on Man-in-the-Moon Marigo...',\n",
       " '314    Santa Clause, The (1994)',\n",
       " '1585    Locusts, The (1997)']"
      ]
     },
     "execution_count": 135,
     "metadata": {},
     "output_type": "execute_result"
    }
   ],
   "source": [
    "get_similars_items = lambda item_id, sim : [movie_info[movie_info[\"movie_id\"] == x][\"name\"].to_string() \n",
    "                                        for x in reversed(np.argsort(sim[item_id,:])[-15:])]\n",
    "\n",
    "get_similars_items(25, cosine_similarity(model.embed_item_GMF.weight.detach().cpu().numpy()))"
   ]
  },
  {
   "cell_type": "code",
   "execution_count": null,
   "metadata": {},
   "outputs": [],
   "source": []
  },
  {
   "cell_type": "code",
   "execution_count": 142,
   "metadata": {},
   "outputs": [],
   "source": [
    "it = iter(test_loader)"
   ]
  },
  {
   "cell_type": "code",
   "execution_count": 146,
   "metadata": {},
   "outputs": [
    {
     "data": {
      "text/plain": [
       "[tensor([3, 3, 3, 3, 3, 3, 3, 3, 3, 3, 3, 3, 3, 3, 3, 3, 3, 3, 3, 3, 3, 3, 3, 3,\n",
       "         3, 3, 3, 3, 3, 3, 3, 3, 3, 3, 3, 3, 3, 3, 3, 3, 3, 3, 3, 3, 3, 3, 3, 3,\n",
       "         3, 3, 3, 3, 3, 3, 3, 3, 3, 3, 3, 3, 3, 3, 3, 3, 3, 3, 3, 3, 3, 3, 3, 3,\n",
       "         3, 3, 3, 3, 3, 3, 3, 3, 3, 3, 3, 3, 3, 3, 3, 3, 3, 3, 3, 3, 3, 3, 3, 3,\n",
       "         3, 3, 3, 3]),\n",
       " tensor([ 259, 1444, 1588, 2078, 3837, 1958, 2236, 1436, 2209, 2674, 3160, 3458,\n",
       "         3666, 2354,  528, 3673, 2773, 2074, 1348, 1583, 3227, 3936, 2597, 3216,\n",
       "         1346,  258, 2730, 2075,  616,  424, 1410, 3252,  235,  626, 1090, 2361,\n",
       "         1488,   22, 1074,  979,  813, 1292, 2024, 1435,  414, 1404, 1196, 1390,\n",
       "         3369, 2270, 3450, 2877, 3373,  734, 2968, 3717, 3537, 2505,  742, 3830,\n",
       "         2447, 1534, 1705, 3166, 2593, 3454, 2227, 2170, 1771, 2118, 3092,  622,\n",
       "         3275, 3518, 3781,  252,  393, 2305, 1397, 3870,  664, 3836, 1595, 2449,\n",
       "         3355, 2278, 1015, 1368, 1978,  247, 2398, 1246, 3339, 1010, 3778,  208,\n",
       "         1828, 3436, 3930, 1863]),\n",
       " tensor([0., 0., 0., 0., 0., 0., 0., 0., 0., 0., 0., 0., 0., 0., 0., 0., 0., 0., 0., 0., 0., 0., 0., 0.,\n",
       "         0., 0., 0., 0., 0., 0., 0., 0., 0., 0., 0., 0., 0., 0., 0., 0., 0., 0., 0., 0., 0., 0., 0., 0.,\n",
       "         0., 0., 0., 0., 0., 0., 0., 0., 0., 0., 0., 0., 0., 0., 0., 0., 0., 0., 0., 0., 0., 0., 0., 0.,\n",
       "         0., 0., 0., 0., 0., 0., 0., 0., 0., 0., 0., 0., 0., 0., 0., 0., 0., 0., 0., 0., 0., 0., 0., 0.,\n",
       "         0., 0., 0., 0.])]"
      ]
     },
     "execution_count": 146,
     "metadata": {},
     "output_type": "execute_result"
    }
   ],
   "source": [
    "next(it)"
   ]
  },
  {
   "cell_type": "code",
   "execution_count": 147,
   "metadata": {},
   "outputs": [],
   "source": [
    "user, item, label = next(it)"
   ]
  },
  {
   "cell_type": "code",
   "execution_count": 148,
   "metadata": {},
   "outputs": [],
   "source": [
    "user = user.cuda()\n",
    "item = item.cuda()\n",
    "\n",
    "with torch.no_grad():\n",
    "    predictions = model(user, item)"
   ]
  },
  {
   "cell_type": "code",
   "execution_count": 149,
   "metadata": {},
   "outputs": [],
   "source": [
    "_, indices = torch.topk(predictions, 10)\n",
    "\n",
    "recommends = torch.take(\n",
    "        item, indices).cpu().numpy().tolist()"
   ]
  },
  {
   "cell_type": "code",
   "execution_count": 150,
   "metadata": {},
   "outputs": [
    {
     "data": {
      "text/html": [
       "<div>\n",
       "<style scoped>\n",
       "    .dataframe tbody tr th:only-of-type {\n",
       "        vertical-align: middle;\n",
       "    }\n",
       "\n",
       "    .dataframe tbody tr th {\n",
       "        vertical-align: top;\n",
       "    }\n",
       "\n",
       "    .dataframe thead th {\n",
       "        text-align: right;\n",
       "    }\n",
       "</style>\n",
       "<table border=\"1\" class=\"dataframe\">\n",
       "  <thead>\n",
       "    <tr style=\"text-align: right;\">\n",
       "      <th></th>\n",
       "      <th>movie_id</th>\n",
       "      <th>name</th>\n",
       "      <th>category</th>\n",
       "    </tr>\n",
       "  </thead>\n",
       "  <tbody>\n",
       "    <tr>\n",
       "      <th>534</th>\n",
       "      <td>537</td>\n",
       "      <td>Six Degrees of Separation (1993)</td>\n",
       "      <td>Drama</td>\n",
       "    </tr>\n",
       "    <tr>\n",
       "      <th>893</th>\n",
       "      <td>904</td>\n",
       "      <td>It Happened One Night (1934)</td>\n",
       "      <td>Comedy</td>\n",
       "    </tr>\n",
       "    <tr>\n",
       "      <th>1190</th>\n",
       "      <td>1207</td>\n",
       "      <td>Apocalypse Now (1979)</td>\n",
       "      <td>Drama|War</td>\n",
       "    </tr>\n",
       "    <tr>\n",
       "      <th>1194</th>\n",
       "      <td>1211</td>\n",
       "      <td>Third Man, The (1949)</td>\n",
       "      <td>Mystery|Thriller</td>\n",
       "    </tr>\n",
       "    <tr>\n",
       "      <th>1201</th>\n",
       "      <td>1218</td>\n",
       "      <td>Psycho (1960)</td>\n",
       "      <td>Horror|Thriller</td>\n",
       "    </tr>\n",
       "    <tr>\n",
       "      <th>1239</th>\n",
       "      <td>1258</td>\n",
       "      <td>Stand by Me (1986)</td>\n",
       "      <td>Adventure|Comedy|Drama</td>\n",
       "    </tr>\n",
       "    <tr>\n",
       "      <th>1265</th>\n",
       "      <td>1284</td>\n",
       "      <td>Heathers (1989)</td>\n",
       "      <td>Comedy</td>\n",
       "    </tr>\n",
       "    <tr>\n",
       "      <th>1893</th>\n",
       "      <td>1961</td>\n",
       "      <td>Driving Miss Daisy (1989)</td>\n",
       "      <td>Drama</td>\n",
       "    </tr>\n",
       "    <tr>\n",
       "      <th>2297</th>\n",
       "      <td>2365</td>\n",
       "      <td>King Kong (1933)</td>\n",
       "      <td>Action|Adventure|Horror</td>\n",
       "    </tr>\n",
       "    <tr>\n",
       "      <th>3141</th>\n",
       "      <td>3209</td>\n",
       "      <td>Fast Times at Ridgemont High (1982)</td>\n",
       "      <td>Comedy</td>\n",
       "    </tr>\n",
       "  </tbody>\n",
       "</table>\n",
       "</div>"
      ],
      "text/plain": [
       "      movie_id                                 name                 category\n",
       "534        537     Six Degrees of Separation (1993)                    Drama\n",
       "893        904         It Happened One Night (1934)                   Comedy\n",
       "1190      1207                Apocalypse Now (1979)                Drama|War\n",
       "1194      1211                Third Man, The (1949)         Mystery|Thriller\n",
       "1201      1218                        Psycho (1960)          Horror|Thriller\n",
       "1239      1258                   Stand by Me (1986)   Adventure|Comedy|Drama\n",
       "1265      1284                      Heathers (1989)                   Comedy\n",
       "1893      1961            Driving Miss Daisy (1989)                    Drama\n",
       "2297      2365                     King Kong (1933)  Action|Adventure|Horror\n",
       "3141      3209  Fast Times at Ridgemont High (1982)                   Comedy"
      ]
     },
     "execution_count": 150,
     "metadata": {},
     "output_type": "execute_result"
    }
   ],
   "source": [
    "movie_info[movie_info['movie_id'].isin(recommends)]"
   ]
  },
  {
   "cell_type": "markdown",
   "metadata": {},
   "source": [
    "Рекомендации получились не очень. Хотя метрики норм. Возможно тут надо немного по-другому делать предсказания"
   ]
  },
  {
   "cell_type": "code",
   "execution_count": null,
   "metadata": {},
   "outputs": [],
   "source": []
  }
 ],
 "metadata": {
  "kernelspec": {
   "display_name": "Python 3",
   "language": "python",
   "name": "python3"
  },
  "language_info": {
   "codemirror_mode": {
    "name": "ipython",
    "version": 3
   },
   "file_extension": ".py",
   "mimetype": "text/x-python",
   "name": "python",
   "nbconvert_exporter": "python",
   "pygments_lexer": "ipython3",
   "version": "3.6.12"
  }
 },
 "nbformat": 4,
 "nbformat_minor": 4
}
